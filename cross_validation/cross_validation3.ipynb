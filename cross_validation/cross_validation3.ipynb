{
 "cells": [
  {
   "cell_type": "markdown",
   "metadata": {},
   "source": [
    "참고자료\n",
    "https://blog.naver.com/ucbsong/221385905624"
   ]
  },
  {
   "cell_type": "code",
   "execution_count": 27,
   "metadata": {},
   "outputs": [],
   "source": [
    "import numpy as np\n",
    "import pandas as pd\n",
    "from sklearn.model_selection import train_test_split\n",
    "from sklearn.linear_model import LinearRegression"
   ]
  },
  {
   "cell_type": "code",
   "execution_count": 28,
   "metadata": {},
   "outputs": [],
   "source": [
    "#train = pd.read_csv('./data/train.csv')\n",
    "#test = pd.read_csv('./data/test.csv')\n",
    "from sklearn.datasets import load_boston\n",
    "\n",
    "boston = load_boston()\n",
    "X = pd.DataFrame(boston.data, columns=boston.feature_names)\n",
    "y = pd.DataFrame(boston.target, columns=[\"SalePrice\"])\n",
    "#df = pd.concat([dfX, dfy], axis=1)"
   ]
  },
  {
   "cell_type": "code",
   "execution_count": 29,
   "metadata": {},
   "outputs": [],
   "source": [
    "#X = train\n",
    "#y = train.loc[:, ['SalePrice']]\n",
    "# set split size to 0.8\n",
    "X_train, y_train, X_test, y_test = train_test_split(X, y, test_size =0.2)"
   ]
  },
  {
   "cell_type": "code",
   "execution_count": 30,
   "metadata": {},
   "outputs": [],
   "source": [
    "# Root Mean Squared Error\n",
    "def rmse(y, y_hat):\n",
    "    return np.sqrt(np.mean((y - y_hat)**2))"
   ]
  },
  {
   "cell_type": "code",
   "execution_count": 31,
   "metadata": {},
   "outputs": [],
   "source": [
    "def get_index(x, size):\n",
    "    index = []\n",
    "    validation = []\n",
    "    r = set([i for i in range(len(x))])\n",
    "    for i in range(len(x)):\n",
    "        validation.append(i) \n",
    "        if (i+1) % size == 0 or i == len(x)-1:\n",
    "\n",
    "            training = list(r - set(validation))\n",
    "            index.append([np.array(training), np.array(validation)])\n",
    "            validation = []\n",
    "\n",
    "    return index"
   ]
  },
  {
   "cell_type": "code",
   "execution_count": 39,
   "metadata": {},
   "outputs": [],
   "source": [
    "def cross_validation(x, y, k=5):\n",
    "    import math\n",
    "    from sklearn.model_selection import KFold\n",
    "    size = math.ceil(len(x) / k)\n",
    "\n",
    "    # n_splits is the number to split the data\n",
    "    kf = KFold(n_splits=5)\n",
    "\n",
    "    error = np.array([])\n",
    "\n",
    "    model = LinearRegression()\n",
    "\n",
    "    # we should put data in kf.split and it would return the training and validation indices just as we created.\n",
    "    for training, validation in kf.split(x):\n",
    "\n",
    "        train = x.iloc[training]\n",
    "        test = y.iloc[training]\n",
    "\n",
    "        val_train = x.iloc[validation]\n",
    "        val_test = y.iloc[validation]\n",
    "\n",
    "        model.fit(train, test)\n",
    "\n",
    "        pred = model.predict(val_train)\n",
    "\n",
    "        err = rmse(val_test, pred)\n",
    "\n",
    "        error = np.append(err, error)\n",
    "\n",
    "    return error.mean()"
   ]
  },
  {
   "cell_type": "code",
   "execution_count": 40,
   "metadata": {},
   "outputs": [
    {
     "data": {
      "text/plain": [
       "array(['CRIM', 'ZN', 'INDUS', 'CHAS', 'NOX', 'RM', 'AGE', 'DIS', 'RAD',\n",
       "       'TAX', 'PTRATIO', 'B', 'LSTAT'], dtype='<U7')"
      ]
     },
     "execution_count": 40,
     "metadata": {},
     "output_type": "execute_result"
    }
   ],
   "source": [
    "boston.feature_names"
   ]
  },
  {
   "cell_type": "code",
   "execution_count": 41,
   "metadata": {},
   "outputs": [
    {
     "name": "stdout",
     "output_type": "stream",
     "text": [
      "Features: ['CRIM', 'ZN', 'INDUS', 'CHAS', 'NOX', 'RM', 'AGE', 'DIS', 'RAD', 'TAX', 'PTRATIO', 'B', 'LSTAT'] with Loss: 5.828658946215834\n",
      "Features: ['CHAS', 'NOX', 'RM'] with Loss: 6.9708301079193475\n",
      "Features: ['CRIM', 'ZN', 'INDUS', 'CHAS', 'NOX', 'RM', 'AGE'] with Loss: 6.780803704303804\n"
     ]
    }
   ],
   "source": [
    "features = [['CRIM', 'ZN', 'INDUS', 'CHAS', 'NOX', 'RM', 'AGE', 'DIS', 'RAD', 'TAX', 'PTRATIO', 'B', 'LSTAT'],\n",
    "            ['CHAS', 'NOX', 'RM'],\n",
    "            ['CRIM', 'ZN', 'INDUS', 'CHAS', 'NOX', 'RM', 'AGE']]\n",
    "errors = []\n",
    "\n",
    "for f in features:\n",
    "    errors.append(cross_validation(X[f], y))\n",
    "\n",
    "least_error = min(errors)\n",
    "best_feature_index = errors.index(least_error)\n",
    "best_feature_set = features[best_feature_index]\n",
    "for f, loss in zip(features, errors):\n",
    "    print('Features: {} with Loss: {}'.format(f, loss))"
   ]
  },
  {
   "cell_type": "code",
   "execution_count": 42,
   "metadata": {},
   "outputs": [
    {
     "name": "stdout",
     "output_type": "stream",
     "text": [
      "\n",
      "Best Features: ['CRIM', 'ZN', 'INDUS', 'CHAS', 'NOX', 'RM', 'AGE', 'DIS', 'RAD', 'TAX', 'PTRATIO', 'B', 'LSTAT']\n"
     ]
    }
   ],
   "source": [
    "print('\\nBest Features: {}'.format(best_feature_set))"
   ]
  },
  {
   "cell_type": "code",
   "execution_count": null,
   "metadata": {},
   "outputs": [],
   "source": []
  },
  {
   "cell_type": "code",
   "execution_count": null,
   "metadata": {},
   "outputs": [],
   "source": []
  }
 ],
 "metadata": {
  "kernelspec": {
   "display_name": "Python 3",
   "language": "python",
   "name": "python3"
  },
  "language_info": {
   "codemirror_mode": {
    "name": "ipython",
    "version": 3
   },
   "file_extension": ".py",
   "mimetype": "text/x-python",
   "name": "python",
   "nbconvert_exporter": "python",
   "pygments_lexer": "ipython3",
   "version": "3.5.4"
  }
 },
 "nbformat": 4,
 "nbformat_minor": 2
}
